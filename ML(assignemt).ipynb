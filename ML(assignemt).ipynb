{
  "nbformat": 4,
  "nbformat_minor": 0,
  "metadata": {
    "colab": {
      "provenance": []
    },
    "kernelspec": {
      "name": "python3",
      "display_name": "Python 3"
    },
    "language_info": {
      "name": "python"
    }
  },
  "cells": [
    {
      "cell_type": "code",
      "execution_count": null,
      "metadata": {
        "id": "7YvMcC_A-Tbq"
      },
      "outputs": [],
      "source": [
        "\n",
        "Assignment Questions\n",
        " 1.\n",
        " 2.\n",
        " 3.\n",
        " 4.\n",
        " 5.\n",
        " 6.\n",
        " 7.\n",
        " 8.\n",
        " 9.\n",
        " 10.\n",
        " 11.\n",
        " 12.\n",
        " 13.\n",
        " 14.\n",
        " 15.\n",
        " 16.\n",
        " 17.\n",
        " 18.\n",
        " 19.\n",
        " 20.\n",
        " 21.\n",
        " 22.\n",
        " 23.\n",
        " 24.\n",
        " 25.\n",
        "\n",
        "\n",
        "\n",
        "\n",
        "\n",
        "\n",
        "\n",
        " What do you mean by training and testing a dataset?\n",
        " What is sklearn.preprocessing?\n",
        " What is a Test set?\n",
        " How do we split data for model fitting (training and testing) in Python?\n",
        " How do you approach a Machine Learning problem?\n",
        " Why do we have to perform EDA before fitting a model to the data?\n",
        " What is correlation?\n",
        " What does negative correlation mean?\n",
        " How can you find correlation between variables in Python?\n",
        " What is causation? Explain difference between correlation and causation with an example.\n",
        " What is an Optimizer? What are different types of optimizers? Explain each with an example.\n",
        " What is sklearn.linear_model ?\n",
        " What does model.fit() do? What arguments must be given?\n",
        " What does model.predict() do? What arguments must be given?\n",
        " What are continuous and categorical variables?\n",
        " What is feature scaling? How does it help in Machine Learning?\n",
        " How do we perform scaling in Python?\n",
        " What is sklearn.preprocessing?\n",
        " How do we split data for model fitting (training and testing) in Python?\n",
        " Explain data encoding?\n",
        " Full Stack Web Development"
      ]
    },
    {
      "cell_type": "markdown",
      "source": [
        "1  What is a parameter?"
      ],
      "metadata": {
        "id": "iXe6fd4-_Jlt"
      }
    },
    {
      "cell_type": "markdown",
      "source": [
        "A parameter in Machine Learning is a value determined by the model during training. These are part of the model that learns from data (e.g., weights in linear regression).\n"
      ],
      "metadata": {
        "id": "MO9qly9w_LSG"
      }
    },
    {
      "cell_type": "markdown",
      "source": [
        "2  What is correlation?"
      ],
      "metadata": {
        "id": "2G1ffqW1_Sm8"
      }
    },
    {
      "cell_type": "markdown",
      "source": [
        " Correlation shows the relationship between two variables, ranging from -1 to 1, where 1 is a strong positive, -1 is a strong negative, and 0 is no correlation.\n"
      ],
      "metadata": {
        "id": "_cpDtHuh_XEq"
      }
    },
    {
      "cell_type": "markdown",
      "source": [
        "3  What does negative correlation mean?"
      ],
      "metadata": {
        "id": "CUdqVY_Y_esz"
      }
    },
    {
      "cell_type": "markdown",
      "source": [
        "Negative correlation means that as one variable increases, the other decreases."
      ],
      "metadata": {
        "id": "2838-xYB_g0a"
      }
    },
    {
      "cell_type": "markdown",
      "source": [
        "4 Define Machine Learning. What are the main components in Machine Learning?"
      ],
      "metadata": {
        "id": "gkCi2T8E_kNQ"
      }
    },
    {
      "cell_type": "markdown",
      "source": [
        " Machine Learning is about teaching machines to learn patterns from data without explicit programming.\n",
        "\n",
        "\n"
      ],
      "metadata": {
        "id": "0kym4MKr_nhK"
      }
    },
    {
      "cell_type": "markdown",
      "source": [
        "5 How does loss value help in determining whether the model is good or not?"
      ],
      "metadata": {
        "id": "8j1zOQSW_qXD"
      }
    },
    {
      "cell_type": "markdown",
      "source": [
        "Loss value quantifies how far the model's predictions are from the actual results. A lower loss means a better model.\n"
      ],
      "metadata": {
        "id": "xJie2sx2_s_0"
      }
    },
    {
      "cell_type": "markdown",
      "source": [
        "6  What are continuous and categorical variables?"
      ],
      "metadata": {
        "id": "ep_s5My8_vcF"
      }
    },
    {
      "cell_type": "markdown",
      "source": [
        "Continuous variables can take any numerical value (e.g., height, weight). Categorical variables represent categories (e.g., gender, colors).\n"
      ],
      "metadata": {
        "id": "gXGUsAgO_0yE"
      }
    },
    {
      "cell_type": "markdown",
      "source": [
        "7 How do we handle categorical variables in Machine Learning? What are the common techniques?"
      ],
      "metadata": {
        "id": "Ad6ihxru_4fB"
      }
    },
    {
      "cell_type": "markdown",
      "source": [
        "Encoding converts categories into numerical form. Techniques: One-hot encoding, label encoding, and target encoding."
      ],
      "metadata": {
        "id": "lUKUaLoe_7_S"
      }
    },
    {
      "cell_type": "markdown",
      "source": [
        "8 What do you mean by training and testing a dataset?\n",
        "\n"
      ],
      "metadata": {
        "id": "EdNISH5SAAAK"
      }
    },
    {
      "cell_type": "markdown",
      "source": [
        "The training set teaches the model; the test set evaluates its performance.\n"
      ],
      "metadata": {
        "id": "LEiuXlbnAEOE"
      }
    },
    {
      "cell_type": "markdown",
      "source": [
        "9 What is sklearn.preprocessing?\n",
        "\n"
      ],
      "metadata": {
        "id": "QO8VaDa9AFWK"
      }
    },
    {
      "cell_type": "markdown",
      "source": [
        "\n",
        "\n",
        "\n",
        " It’s a module in scikit-learn for data preprocessing, such as scaling, encoding, and imputing.\n"
      ],
      "metadata": {
        "id": "BAol2N4aAJCC"
      }
    },
    {
      "cell_type": "markdown",
      "source": [
        "10 What is a test set?\n",
        "\n",
        "\n",
        "\n"
      ],
      "metadata": {
        "id": "CIKnnQoAAJqq"
      }
    },
    {
      "cell_type": "markdown",
      "source": [
        " A test set is a portion of the dataset reserved for evaluating the model’s performance on unseen data."
      ],
      "metadata": {
        "id": "1egi9eCFAM06"
      }
    },
    {
      "cell_type": "markdown",
      "source": [
        "11 How do we split data for model fitting (training and testing) in Python?\n",
        "\n"
      ],
      "metadata": {
        "id": "WbpXG4coATXi"
      }
    },
    {
      "cell_type": "markdown",
      "source": [
        "\n",
        " Use train_test_split() from sklearn.model_selection.\n",
        "\n",
        "\n",
        "Code Example:\n",
        "\n",
        "from sklearn.model_selection import train_test_split\n",
        "X_train, X_test, y_train, y_test = train_test_split(X, y, test_size=0.2, random_state=42)\n"
      ],
      "metadata": {
        "id": "MXvG0SCLAbEd"
      }
    },
    {
      "cell_type": "markdown",
      "source": [
        "12 How do you approach a Machine Learning problem?\n",
        "\n",
        "\n",
        "\n"
      ],
      "metadata": {
        "id": "qI6iytTlAfIz"
      }
    },
    {
      "cell_type": "markdown",
      "source": [
        "\n",
        " Follow a structured process:\n",
        "\n",
        "\n",
        "Define the problem and objective.\n",
        "\n",
        "\n",
        "Collect and clean data.\n",
        "\n",
        "\n",
        "Perform EDA.\n",
        "\n",
        "\n",
        "Choose the algorithm.\n",
        "\n",
        "\n",
        "Train and evaluate the model.\n",
        "\n",
        "\n",
        "Deploy and monitor.\n"
      ],
      "metadata": {
        "id": "TOZVyCpqAiWr"
      }
    },
    {
      "cell_type": "markdown",
      "source": [
        "13 Why perform EDA before fitting a model?\n",
        "\n",
        "\n",
        "\n"
      ],
      "metadata": {
        "id": "mGABsarLAjn8"
      }
    },
    {
      "cell_type": "markdown",
      "source": [
        " EDA (Exploratory Data Analysis) helps understand data distribution, detect anomalies, and guide feature selection."
      ],
      "metadata": {
        "id": "zxD7CYruAmr5"
      }
    },
    {
      "cell_type": "markdown",
      "source": [
        "14 What is causation? Correlation vs. causation?\n",
        "\n",
        "\n",
        "\n"
      ],
      "metadata": {
        "id": "dm8k1rA4Ao7r"
      }
    },
    {
      "cell_type": "markdown",
      "source": [
        " Correlation is a statistical relationship; causation means one variable affects another."
      ],
      "metadata": {
        "id": "xACZl0wfAsK0"
      }
    },
    {
      "cell_type": "markdown",
      "source": [
        "15 What is an optimizer? Types?\n"
      ],
      "metadata": {
        "id": "8zGLUVvQAtpa"
      }
    },
    {
      "cell_type": "markdown",
      "source": [
        "An optimizer updates model parameters to minimize loss. Types:\n",
        "\n",
        "\n",
        "Gradient Descent: Simple iterative optimization.\n",
        "\n",
        "\n",
        "Adam: Combines momentum and adaptive learning rates.\n",
        "\n",
        "\n",
        "RMSProp: Optimizes faster convergence for deep learning."
      ],
      "metadata": {
        "id": "IfQnojqPAyOU"
      }
    },
    {
      "cell_type": "markdown",
      "source": [
        "16 What is sklearn.linear_model?\n",
        "\n",
        "\n",
        "\n"
      ],
      "metadata": {
        "id": "_NkneagHAz3x"
      }
    },
    {
      "cell_type": "markdown",
      "source": [
        " A module in sklearn for linear models like Linear Regression and Logistic Regression.\n"
      ],
      "metadata": {
        "id": "17W6TRgpA4Zh"
      }
    },
    {
      "cell_type": "markdown",
      "source": [
        "17 What does model.fit() do? Arguments?\n",
        "\n"
      ],
      "metadata": {
        "id": "UGxhfiNeA51x"
      }
    },
    {
      "cell_type": "markdown",
      "source": [
        "\n",
        " Trains the model on the provided data.\n",
        "Code:\n",
        "model.fit(X_train, y_train)"
      ],
      "metadata": {
        "id": "8U-oETwWBAuq"
      }
    },
    {
      "cell_type": "markdown",
      "source": [
        "18 What does model.predict() do? Arguments?\n",
        "\n"
      ],
      "metadata": {
        "id": "buPcq2VBBB-z"
      }
    },
    {
      "cell_type": "markdown",
      "source": [
        "Predicts target values for input data.\n",
        "Code:\n",
        "predictions = model.predict(X_test)"
      ],
      "metadata": {
        "id": "Sv9OKgujBH1q"
      }
    },
    {
      "cell_type": "markdown",
      "source": [
        "19 What is feature scaling?\n",
        "\n"
      ],
      "metadata": {
        "id": "KvaendrTBKWI"
      }
    },
    {
      "cell_type": "markdown",
      "source": [
        "Standardizes feature values to improve model performance."
      ],
      "metadata": {
        "id": "S7uoZ4vLBNl0"
      }
    },
    {
      "cell_type": "markdown",
      "source": [
        "20 How do we perform scaling in Python?\n",
        "\n"
      ],
      "metadata": {
        "id": "TIJA2DlOBO0Z"
      }
    },
    {
      "cell_type": "markdown",
      "source": [
        "Code:\n",
        "from sklearn.preprocessing import StandardScaler\n",
        "scaler = StandardScaler()\n",
        "scaled_data = scaler.fit_transform(data)"
      ],
      "metadata": {
        "id": "6DLJ20HgBUZk"
      }
    },
    {
      "cell_type": "markdown",
      "source": [
        "21. Explain data encoding with real-life analogy:\n"
      ],
      "metadata": {
        "id": "hHuqHQ2RBVHx"
      }
    },
    {
      "cell_type": "markdown",
      "source": [
        " Data encoding converts categories into numerical values."
      ],
      "metadata": {
        "id": "9g2K36_7Bbos"
      }
    },
    {
      "cell_type": "markdown",
      "source": [
        "22  How do we perform scaling in Python?\n"
      ],
      "metadata": {
        "id": "m1LZ1pnSBdHR"
      }
    },
    {
      "cell_type": "markdown",
      "source": [
        "Scaling adjusts feature values to a comparable range, ensuring fair contribution to the model. It is performed using techniques like StandardScaler (mean = 0, std = 1) and MinMaxScaler (scales between 0 and 1).\n"
      ],
      "metadata": {
        "id": "kKTamPRIBsjY"
      }
    },
    {
      "cell_type": "markdown",
      "source": [
        "23 What is sklearn.preprocessing?\n"
      ],
      "metadata": {
        "id": "sX3TUuRwBvsZ"
      }
    },
    {
      "cell_type": "markdown",
      "source": [
        "sklearn.preprocessing is a module in Scikit-learn that provides tools for preparing data for machine learning, including scaling, encoding, and imputing missing values."
      ],
      "metadata": {
        "id": "UWBs3QaZByhY"
      }
    },
    {
      "cell_type": "markdown",
      "source": [
        "24  How do we split data for model fitting (training and testing) in Python?"
      ],
      "metadata": {
        "id": "uYzFyCrbB27t"
      }
    },
    {
      "cell_type": "markdown",
      "source": [
        "We use the train_test_split function from Scikit-learn to split data into training and testing sets. Typically, 70–80% of data is used for training, and the rest for testing.\n"
      ],
      "metadata": {
        "id": "F9r4hLutB5pb"
      }
    },
    {
      "cell_type": "markdown",
      "source": [
        "25  Explain Data Encoding\n"
      ],
      "metadata": {
        "id": "eaApZF_hB8T5"
      }
    },
    {
      "cell_type": "markdown",
      "source": [
        "Data encoding converts categorical variables into numerical formats for ML models. Common methods are:\n",
        "Label Encoding: Assigns a unique integer to each category.\n",
        "\n",
        "\n",
        "One-Hot Encoding: Creates binary columns for each category.\n",
        "\n",
        "\n"
      ],
      "metadata": {
        "id": "S5P_pyXTB-up"
      }
    }
  ]
}